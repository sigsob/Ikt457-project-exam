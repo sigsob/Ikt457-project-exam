{
 "cells": [
  {
   "cell_type": "code",
   "execution_count": 24,
   "metadata": {},
   "outputs": [],
   "source": [
    "#lagd av Knut D. Selstad\n",
    "\n",
    "import csv\n",
    "import numpy as np\n",
    "import random"
   ]
  },
  {
   "cell_type": "code",
   "execution_count": 25,
   "metadata": {},
   "outputs": [],
   "source": [
    "directions = [\n",
    "    (-1, 0), (1, 0),  # Left and Right\n",
    "    (0, -1), (0, 1),  # Up and Down\n",
    "    (-1, 1), (1, -1)  # Upper-left and Lower-right for staggered rows\n",
    "]"
   ]
  },
  {
   "cell_type": "code",
   "execution_count": 26,
   "metadata": {},
   "outputs": [],
   "source": [
    "\n",
    "def generate_empty_board(board_size):\n",
    "    return np.zeros((board_size, board_size), dtype=int)\n",
    "    "
   ]
  },
  {
   "cell_type": "code",
   "execution_count": 27,
   "metadata": {},
   "outputs": [],
   "source": [
    "def generate_list_of_empy_cells(board_size):\n",
    "    return [(i, j) for i in range(board_size) for j in range(board_size)]"
   ]
  },
  {
   "cell_type": "code",
   "execution_count": 28,
   "metadata": {},
   "outputs": [],
   "source": [
    "def check_winner(board, position):\n",
    "    player = board[position]\n",
    "    board_size = board.shape[0]\n",
    "    \n",
    "    # Initialize search\n",
    "    stack = [position]\n",
    "    visited = set()\n",
    "    \n",
    "    # Track if the player touches the required sides\n",
    "    touches_left = touches_right = touches_top = touches_bottom = False\n",
    "    \n",
    "    while stack:\n",
    "        current = stack.pop()\n",
    "        if current in visited:\n",
    "            continue\n",
    "        visited.add(current)\n",
    "        \n",
    "        x, y = current\n",
    "        \n",
    "        # Check if the current position touches the required sides\n",
    "        if player == -1:\n",
    "            if y == 0:\n",
    "                touches_left = True\n",
    "            if y == board_size - 1:\n",
    "                touches_right = True\n",
    "        elif player == 1:\n",
    "            if x == 0:\n",
    "                touches_top = True\n",
    "            if x == board_size - 1:\n",
    "                touches_bottom = True\n",
    "        \n",
    "        # If both sides are touched, the player wins\n",
    "        if (player == -1 and touches_left and touches_right) or (player == 1 and touches_top and touches_bottom):\n",
    "            return True\n",
    "        \n",
    "        # Explore neighbors\n",
    "        for dx, dy in directions:\n",
    "            nx, ny = x + dx, y + dy\n",
    "            if 0 <= nx < board_size and 0 <= ny < board_size and board[nx, ny] == player:\n",
    "                stack.append((nx, ny))\n",
    "    \n",
    "    return False\n",
    "    "
   ]
  },
  {
   "cell_type": "code",
   "execution_count": 19,
   "metadata": {},
   "outputs": [],
   "source": [
    "board_size = 5\n",
    "board = generate_empty_board(board_size=board_size)\n",
    "list_empty_cells = generate_list_of_empy_cells(board_size=board_size)\n"
   ]
  },
  {
   "cell_type": "code",
   "execution_count": 20,
   "metadata": {},
   "outputs": [
    {
     "name": "stdout",
     "output_type": "stream",
     "text": [
      "Player -1 wins!\n",
      "[[ 0  1  0 -1  1]\n",
      " [-1  1  1  1 -1]\n",
      " [-1 -1 -1 -1  1]\n",
      " [ 1  1  1  1 -1]\n",
      " [ 1 -1 -1 -1 -1]]\n"
     ]
    }
   ],
   "source": [
    "for i in range(board_size*board_size):\n",
    "    random_cell = random.choice(list_empty_cells)\n",
    "    list_empty_cells.remove(random_cell)\n",
    "    board[random_cell] = 1 if i % 2 == 1 else -1\n",
    "    if check_winner(board, random_cell):\n",
    "        print(f\"Player {1 if i % 2 == 1 else -1} wins!\")\n",
    "        print(board)\n",
    "        break"
   ]
  },
  {
   "cell_type": "code",
   "execution_count": 21,
   "metadata": {},
   "outputs": [],
   "source": [
    "def save_board_to_csv(board, winner, filename='game_results_9x9_random_ja.csv'):\n",
    "    # Flatten the board and append the winner\n",
    "    flattened_board = board.flatten().tolist()\n",
    "    flattened_board.append(winner)\n",
    "    \n",
    "    # Write to CSV file\n",
    "    with open(filename, mode='a', newline='') as file:\n",
    "        writer = csv.writer(file)\n",
    "        writer.writerow(flattened_board)"
   ]
  },
  {
   "cell_type": "code",
   "execution_count": 22,
   "metadata": {},
   "outputs": [],
   "source": [
    "for j in range(400000):\n",
    "    board_size = 9\n",
    "    board = generate_empty_board(board_size=board_size)\n",
    "    list_empty_cells = generate_list_of_empy_cells(board_size=board_size)\n",
    "    player = random.choice([1,-1])\n",
    "    start_player = player\n",
    "    for i in range(board_size * board_size):\n",
    "        random_cell = random.choice(list_empty_cells)\n",
    "        list_empty_cells.remove(random_cell)\n",
    "        board[random_cell] = player\n",
    "        if check_winner(board, random_cell):\n",
    "            winner = player\n",
    "            if winner == start_player:\n",
    "                break\n",
    "            else:\n",
    "                save_board_to_csv(board, winner)\n",
    "                break\n",
    "          \n",
    "        player *= -1"
   ]
  },
  {
   "cell_type": "code",
   "execution_count": null,
   "metadata": {},
   "outputs": [],
   "source": []
  },
  {
   "cell_type": "code",
   "execution_count": null,
   "metadata": {},
   "outputs": [],
   "source": []
  },
  {
   "cell_type": "code",
   "execution_count": null,
   "metadata": {},
   "outputs": [],
   "source": []
  }
 ],
 "metadata": {
  "kernelspec": {
   "display_name": "Python 3 (ipykernel)",
   "language": "python",
   "name": "python3"
  },
  "language_info": {
   "codemirror_mode": {
    "name": "ipython",
    "version": 3
   },
   "file_extension": ".py",
   "mimetype": "text/x-python",
   "name": "python",
   "nbconvert_exporter": "python",
   "pygments_lexer": "ipython3",
   "version": "3.10.12"
  }
 },
 "nbformat": 4,
 "nbformat_minor": 4
}
